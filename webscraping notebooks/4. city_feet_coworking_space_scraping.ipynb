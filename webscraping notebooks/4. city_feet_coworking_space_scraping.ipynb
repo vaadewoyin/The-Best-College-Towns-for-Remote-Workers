{
 "cells": [
  {
   "cell_type": "code",
   "execution_count": 1,
   "id": "9c9e587c",
   "metadata": {},
   "outputs": [],
   "source": [
    "import time\n",
    "import pandas as pd\n",
    "from selenium import webdriver\n",
    "from selenium.webdriver.common.by import By\n",
    "from selenium.webdriver.chrome.service import Service\n",
    "from selenium.webdriver.chrome.options import Options\n",
    "from webdriver_manager.chrome import ChromeDriverManager\n",
    "from selenium.webdriver.support.wait import WebDriverWait\n",
    "from selenium.webdriver.support import expected_conditions as EC\n",
    "from selenium.common.exceptions import WebDriverException\n",
    "#driver = webdriver.Chrome(service=Service(ChromeDriverManager().install()))\n",
    "\n",
    "# Define Chrome options\n",
    "chrome_options = Options()\n",
    "#chrome_options.add_argument(\"--headless\")  # run Chrome in headless mode\n",
    "driver = webdriver.Chrome(options=chrome_options)\n",
    "\n",
    "driver = webdriver.Chrome()"
   ]
  },
  {
   "cell_type": "code",
   "execution_count": 2,
   "id": "b311ed59",
   "metadata": {},
   "outputs": [],
   "source": [
    "#load dataframe containing towns to get needed towns name\n",
    "towns=pd.read_csv('./Downloads/The Best College Towns for Remote Workers Project/us_college_towns_mod.csv')\n",
    "\n",
    "#format of (town,abbrevation) to input in website's search box\n",
    "towns=towns.apply(lambda row: row['town'] + ', ' + row['state_abv'], axis=1)\n",
    "towns=towns.to_list()"
   ]
  },
  {
   "cell_type": "code",
   "execution_count": 3,
   "id": "442bbf63",
   "metadata": {},
   "outputs": [],
   "source": [
    "def modify_town(town):\n",
    "    #function takes string(town) and modifies it to suitable format to place in url\n",
    "    new_text=''\n",
    "    for i in town.lower().split(','):\n",
    "        new_text=new_text+i\n",
    "    town_string=new_text.replace(' ','-')\n",
    "    return town_string"
   ]
  },
  {
   "cell_type": "code",
   "execution_count": 8,
   "id": "22bd5f89",
   "metadata": {},
   "outputs": [
    {
     "name": "stdout",
     "output_type": "stream",
     "text": [
      "scraping done\n"
     ]
    }
   ],
   "source": [
    "town_spaces=[]\n",
    "for town in towns[158:]:\n",
    "    try:\n",
    "        #modify town\n",
    "        town_string=modify_town(town)\n",
    "        #url\n",
    "        url=f'https://www.cityfeet.com/cont/{town_string}' + '/coworking-space'\n",
    "        #go to page\n",
    "        driver.get(url)\n",
    "        #get number of coworking space\n",
    "        town_name=town\n",
    "        listing=driver.find_element(By.CLASS_NAME, \"list-container\")\n",
    "        num_coworking_space=len(listing.find_elements(By.TAG_NAME,'a'))\n",
    "        town_dict={'town_name':town_name,'num_coworking_space':num_coworking_space}\n",
    "        \n",
    "    except:\n",
    "        continue\n",
    "    else:\n",
    "        town_spaces.append(town_dict)\n",
    "        \n",
    "print('scraping done')"
   ]
  },
  {
   "cell_type": "code",
   "execution_count": 9,
   "id": "219c509c",
   "metadata": {
    "scrolled": true
   },
   "outputs": [],
   "source": [
    "#save data\n",
    "df=pd.DataFrame(town_spaces)\n",
    "df.to_csv('./Downloads/city_feet_coworking_space1_.csv')"
   ]
  },
  {
   "cell_type": "code",
   "execution_count": null,
   "id": "362e1c91",
   "metadata": {},
   "outputs": [],
   "source": []
  }
 ],
 "metadata": {
  "kernelspec": {
   "display_name": "Python 3 (ipykernel)",
   "language": "python",
   "name": "python3"
  },
  "language_info": {
   "codemirror_mode": {
    "name": "ipython",
    "version": 3
   },
   "file_extension": ".py",
   "mimetype": "text/x-python",
   "name": "python",
   "nbconvert_exporter": "python",
   "pygments_lexer": "ipython3",
   "version": "3.9.16"
  }
 },
 "nbformat": 4,
 "nbformat_minor": 5
}
