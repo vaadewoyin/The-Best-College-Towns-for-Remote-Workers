{
 "cells": [
  {
   "cell_type": "code",
   "execution_count": 1,
   "id": "2ba4161b",
   "metadata": {},
   "outputs": [],
   "source": [
    "#necessary imports\n",
    "import requests\n",
    "import lxml\n",
    "from bs4 import BeautifulSoup\n",
    "import pandas as pd"
   ]
  },
  {
   "cell_type": "code",
   "execution_count": 2,
   "id": "401da031",
   "metadata": {},
   "outputs": [],
   "source": [
    "#get url\n",
    "url='https://en.wikipedia.org/wiki/List_of_college_towns#United_States'\n",
    "html=requests.get(url)\n",
    "html_text=html.text\n",
    "\n",
    "#parse html_text\n",
    "soup=BeautifulSoup(html_text,'lxml')"
   ]
  },
  {
   "cell_type": "code",
   "execution_count": null,
   "id": "38470d01",
   "metadata": {},
   "outputs": [],
   "source": [
    "#get list of US college towns\n",
    "us_college_towns=[]\n",
    "\n",
    "#li_tags to get needed colleges\n",
    "li_tags=soup.find_all('li')\n",
    "#get index of needed colleges\n",
    "for element in li_tags:\n",
    "    try: \n",
    "        if element.a.get('title')=='Auburn, Alabama':\n",
    "            first_index=li_tags.index(element)\n",
    "            print('first_index :',li_tags.index(element))\n",
    "        if element.a.get('title')=='Laramie, Wyoming':\n",
    "            second_index=li_tags.index(element)\n",
    "            print('second_index :',li_tags.index(element))\n",
    "    except:\n",
    "        continue\n",
    "\n",
    "#extract colleges within specified range\n",
    "for element in range(first_index,(second_index+1)):\n",
    "    us_college_towns.append((li_tags[element]).a.get('title'))\n",
    "print('Number of US college towns scrapped :',len(us_college_towns))\n",
    "\n",
    "\n"
   ]
  },
  {
   "cell_type": "code",
   "execution_count": null,
   "id": "5a981d71",
   "metadata": {},
   "outputs": [],
   "source": [
    "#save extracted us college town names\n",
    "us_college_towns_df=pd.DataFrame(us_college_towns,columns=['US college towns'])\n",
    "us_college_towns_df.to_csv('./Downloads/The Best College Towns for Remote Workers Project/us_college_towns.csv',index=False)"
   ]
  }
 ],
 "metadata": {
  "kernelspec": {
   "display_name": "Python 3 (ipykernel)",
   "language": "python",
   "name": "python3"
  },
  "language_info": {
   "codemirror_mode": {
    "name": "ipython",
    "version": 3
   },
   "file_extension": ".py",
   "mimetype": "text/x-python",
   "name": "python",
   "nbconvert_exporter": "python",
   "pygments_lexer": "ipython3",
   "version": "3.9.16"
  }
 },
 "nbformat": 4,
 "nbformat_minor": 5
}
