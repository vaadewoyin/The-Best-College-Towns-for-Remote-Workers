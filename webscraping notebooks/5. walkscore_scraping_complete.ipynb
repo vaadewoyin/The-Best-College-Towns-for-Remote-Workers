{
 "cells": [
  {
   "cell_type": "markdown",
   "id": "9db3582b-cb6a-421a-8d7a-efbdff70f9dc",
   "metadata": {},
   "source": [
    "### Necessary imports"
   ]
  },
  {
   "cell_type": "code",
   "execution_count": 1,
   "id": "52e76137-f3b3-4b44-9edc-44de5cf87bc7",
   "metadata": {
    "tags": []
   },
   "outputs": [],
   "source": [
    "import time\n",
    "import pandas as pd\n",
    "from selenium import webdriver\n",
    "from selenium.webdriver.common.by import By\n",
    "from selenium.webdriver.chrome.service import Service\n",
    "from selenium.webdriver.chrome.options import Options\n",
    "from webdriver_manager.chrome import ChromeDriverManager\n",
    "from selenium.webdriver.support.wait import WebDriverWait\n",
    "from selenium.webdriver.support import expected_conditions as EC\n",
    "from selenium.common.exceptions import WebDriverException\n",
    "\n",
    "prefs = {\"profile.managed_default_content_settings.images\": 2,\n",
    "         \"profile.managed_default_content_settings.javascript\": 2,\n",
    "         \"profile.managed_default_content_settings.cookies\": 2,\n",
    "         \"profile.managed_default_content_settings.plugins\": 2,\n",
    "         \"profile.managed_default_content_settings.popups\": 2,\n",
    "         \"profile.managed_default_content_settings.geolocation\": 2,\n",
    "         \"profile.managed_default_content_settings.media_stream\": 2,\n",
    "         \"profile.managed_default_content_settings.notifications\": 2}\n",
    "\n",
    "options = webdriver.ChromeOptions()\n",
    "options.add_argument('--headless')\n",
    "options.add_argument('--no-sandbox')\n",
    "options.add_argument('--disable-dev-shm-usage')\n",
    "options.add_experimental_option('prefs', prefs)\n",
    "\n",
    "# Define Chrome options\n",
    "#chrome_options = Options()\n",
    "#chrome_options.add_argument(\"--headless\")  # run Chrome in headless mode\n",
    "driver = webdriver.Chrome(options=options)\n",
    "\n",
    "#driver = webdriver.Chrome()\n",
    "\n",
    "#timeout for loadtime as 5 secs\n",
    "driver.set_page_load_timeout(5)"
   ]
  },
  {
   "cell_type": "code",
   "execution_count": 2,
   "id": "3f004de8-31fe-49c1-b715-cf4e0e85a874",
   "metadata": {
    "tags": []
   },
   "outputs": [],
   "source": [
    "#load data containing towns name\n",
    "towns=pd.read_csv('./us_college_towns_mod.csv')\n",
    "\n",
    "#format of (town,abbrevation) to input in website's search box\n",
    "towns=towns.apply(lambda row: row['town'] + ', ' + row['state_abv'], axis=1)\n",
    "towns=towns.to_list()"
   ]
  },
  {
   "cell_type": "code",
   "execution_count": 3,
   "id": "f986e2e5",
   "metadata": {
    "scrolled": true
   },
   "outputs": [],
   "source": [
    "#store collected info\n",
    "town_details=[]\n",
    "\n",
    "#get each towns info\n",
    "for town in towns:\n",
    "    split_town=town.split(',')\n",
    "    abv=split_town[1].strip()\n",
    "    town_string=(split_town[0].strip()).replace(' ','_')\n",
    "    url_format=f'https://www.walkscore.com/{abv}/'+town_string\n",
    "    try:\n",
    "        driver.get(url_format)\n",
    "        time.sleep(3)\n",
    "        wait = WebDriverWait(driver, 2)\n",
    "        scores_box=wait.until(EC.presence_of_element_located((By.CSS_SELECTOR,'#hood-badges > div > div > div > div > div')))\n",
    "        scores=scores_box.find_elements(By.TAG_NAME,'img')\n",
    "        for score in scores:\n",
    "            if 'walk'in ((score.get_attribute('alt')).lower()):\n",
    "                walk_score=score.get_attribute('alt').split(' ')[0]\n",
    "            elif 'bike' in ((score.get_attribute('alt')).lower()):\n",
    "                bike_score=score.get_attribute('alt').split(' ')[0]\n",
    "            else:\n",
    "                continue\n",
    "    except:\n",
    "        #if town has no bike or walk score, skip to next town in loop\n",
    "        continue\n",
    "    else:\n",
    "        try:\n",
    "            #get number of eateries\n",
    "            num_eateries=driver.find_element(By.CSS_SELECTOR,'#eat-drink > div > div > div:nth-child(1) > div > div > div > p:nth-child(1)').text.split(' ')[3]\n",
    "        except:\n",
    "            #if num_eateries missing, assign 0 and complete sequence of code\n",
    "            num_eateries=0\n",
    "            town_name=town.split(',')[0]\n",
    "            town_dict={}\n",
    "            town_dict={'town_name':town_name,'walk_score':walk_score,'bike_score':bike_score,\n",
    "                            'num_eateries':num_eateries} #store extracted details in dictionary\n",
    "            town_details.append(town_dict)\n",
    "        else:\n",
    "            #if no exception raised:\n",
    "            #store extracted details in dictionary\n",
    "            town_name=town\n",
    "            town_dict={}\n",
    "            town_dict={'town_name':town_name,'walk_score':walk_score,'bike_score':bike_score,\n",
    "                            'num_eateries':num_eateries} #store extracted details in dictionary\n",
    "            town_details.append(town_dict)\n"
   ]
  },
  {
   "cell_type": "markdown",
   "id": "557e4ca1-a0ef-4977-b4cb-04c790beffdc",
   "metadata": {},
   "source": [
    "### Save data"
   ]
  },
  {
   "cell_type": "code",
   "execution_count": 4,
   "id": "54aa0d13-db6f-422e-9d5c-77ccafec4722",
   "metadata": {
    "tags": []
   },
   "outputs": [],
   "source": [
    "import pandas as pd\n",
    "df=pd.DataFrame(town_details)"
   ]
  },
  {
   "cell_type": "code",
   "execution_count": 5,
   "id": "67017537-03a1-4594-a35d-eca29b625a7b",
   "metadata": {
    "tags": []
   },
   "outputs": [],
   "source": [
    "#save to disk\n",
    "df.to_csv('./walk_score_final.csv')"
   ]
  }
 ],
 "metadata": {
  "kernelspec": {
   "display_name": "Python 3 (ipykernel)",
   "language": "python",
   "name": "python3"
  },
  "language_info": {
   "codemirror_mode": {
    "name": "ipython",
    "version": 3
   },
   "file_extension": ".py",
   "mimetype": "text/x-python",
   "name": "python",
   "nbconvert_exporter": "python",
   "pygments_lexer": "ipython3",
   "version": "3.9.16"
  }
 },
 "nbformat": 4,
 "nbformat_minor": 5
}
