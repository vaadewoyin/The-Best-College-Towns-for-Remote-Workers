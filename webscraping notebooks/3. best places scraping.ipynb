{
 "cells": [
  {
   "cell_type": "code",
   "execution_count": 1,
   "id": "ba496793",
   "metadata": {},
   "outputs": [],
   "source": [
    "#necessary imports\n",
    "import time\n",
    "import pandas as pd\n",
    "from selenium import webdriver\n",
    "from selenium.webdriver.common.by import By\n",
    "from selenium.webdriver.chrome.service import Service\n",
    "from webdriver_manager.chrome import ChromeDriverManager\n",
    "from selenium.webdriver.support.wait import WebDriverWait\n",
    "from selenium.webdriver.support import expected_conditions as EC\n",
    "from selenium.common.exceptions import WebDriverException\n",
    "from selenium.webdriver.chrome.service import Service\n",
    "from selenium.webdriver.chrome.options import Options\n",
    "\n",
    "driver_path = '/usr/local/python/3.10.4/lib/python3.10/site-packages/chromedriver_autoinstaller/112/chromedriver'\n",
    "service = Service(driver_path)\n",
    "\n",
    "prefs = {\"profile.managed_default_content_settings.images\": 2,\n",
    "         \"profile.managed_default_content_settings.javascript\": 2,\n",
    "         \"profile.managed_default_content_settings.cookies\": 2,\n",
    "         \"profile.managed_default_content_settings.plugins\": 1,\n",
    "         \"profile.managed_default_content_settings.popups\": 2,\n",
    "         \"profile.managed_default_content_settings.geolocation\": 2,\n",
    "         \"profile.managed_default_content_settings.media_stream\": 2,\n",
    "         \"profile.managed_default_content_settings.notifications\": 2}\n",
    "\n",
    "options = webdriver.ChromeOptions()\n",
    "options.add_argument('--headless')\n",
    "options.add_argument('--no-sandbox')\n",
    "options.add_argument('--disable-dev-shm-usage')\n",
    "options.add_experimental_option('prefs', prefs)\n",
    "\n",
    "driver = webdriver.Chrome(service=service, options=options)\n"
   ]
  },
  {
   "cell_type": "code",
   "execution_count": 2,
   "id": "e3da763e",
   "metadata": {},
   "outputs": [],
   "source": [
    "towns=pd.read_csv('./The Best College Towns for Remote Workers Project/us_college_towns_mod.csv')\n",
    "\n",
    "#format of (town,abbrevation) to input in website's search box\n",
    "towns=towns.apply(lambda row: row['town'] + ', ' + row['state_abv'], axis=1)\n",
    "towns=towns.to_list()"
   ]
  },
  {
   "cell_type": "code",
   "execution_count": 3,
   "id": "2627df98",
   "metadata": {},
   "outputs": [],
   "source": [
    "#store collected info\n",
    "town_details=[]\n",
    "#go to page\n",
    "url='https://www.bestplaces.net/find/'\n",
    "driver.get(url)\n",
    "\n",
    "#searchbox\n",
    "#input_element=driver.find_element(By.CSS_SELECTOR,'#txtSearch')\n",
    "for town in towns:\n",
    "    try:\n",
    "        #input text to search\n",
    "        driver.find_element(By.CSS_SELECTOR,'#form1 > nav > ul > li:nth-child(3) > a > svg').click()\n",
    "        #locate box\n",
    "        new_input=driver.find_element(By.CSS_SELECTOR,'#mainContent_txtSearch')\n",
    "        #input new text to search\n",
    "        ind=(town.index(','))+2\n",
    "        text_to_input=town[:ind+2]\n",
    "        new_input.send_keys(text_to_input)\n",
    "        #search input\n",
    "        driver.find_element(By.CSS_SELECTOR,'#mainContent_btnGo1').click()\n",
    "    except:\n",
    "        continue\n",
    "    else:\n",
    "        try:\n",
    "            #extract details\n",
    "            name=town.split(',')[0]\n",
    "            state=town.split(',')[1].strip()\n",
    "            population=driver.find_element(By.CSS_SELECTOR,'#form1 > div.bt-0.my-0 > div > div > div:nth-child(5) > div:nth-child(1) > p:nth-child(2)').text\n",
    "            unemployment_rate=driver.find_element(By.CSS_SELECTOR,'#form1 > div.bt-0.my-0 > div > div > div:nth-child(5) > div:nth-child(1) > p:nth-child(5)').text\n",
    "            median_income=driver.find_element(By.CSS_SELECTOR,'#form1 > div.bt-0.my-0 > div > div > div:nth-child(5) > div:nth-child(2) > p:nth-child(2)').text\n",
    "            median_age=driver.find_element(By.CSS_SELECTOR,'#form1 > div.bt-0.my-0 > div > div > div:nth-child(5) > div:nth-child(3) > p:nth-child(2)').text\n",
    "            cost_of_living=driver.find_element(By.CSS_SELECTOR,\"#form1 > div.container > div:nth-child(2) > div.col-sm-4.col-md-6.col-lg-6.col-xl-7 > div.row.mt-2.mb-3 > div:nth-child(2)\").text.\\\n",
    "                                    split('\\n')[1].split('Cost of Living:')[1].strip()\n",
    "            #store extracted details in dictionary\n",
    "            town_dict={}\n",
    "            town_dict={'state':state,'name':name,'population':population,'unemployment_rate':unemployment_rate,\n",
    "                            'median_income':median_income,'median_age':median_age,\n",
    "                            'cost_of_living':cost_of_living}\n",
    "            town_details.append(town_dict)\n",
    "        except :\n",
    "            print('error:')\n",
    "        "
   ]
  },
  {
   "cell_type": "markdown",
   "id": "99b78d7f",
   "metadata": {},
   "source": [
    "### Save data"
   ]
  },
  {
   "cell_type": "code",
   "execution_count": 4,
   "id": "f1b35a1b",
   "metadata": {},
   "outputs": [],
   "source": [
    "import pandas as pd\n",
    "df=pd.DataFrame(town_details)"
   ]
  },
  {
   "cell_type": "code",
   "execution_count": 5,
   "id": "6bb835c9",
   "metadata": {},
   "outputs": [],
   "source": [
    "#save to disk\n",
    "df.to_csv('./best_places.csv')"
   ]
  },
  {
   "cell_type": "code",
   "execution_count": null,
   "id": "92b6b58d",
   "metadata": {},
   "outputs": [],
   "source": []
  }
 ],
 "metadata": {
  "kernelspec": {
   "display_name": "Python 3 (ipykernel)",
   "language": "python",
   "name": "python3"
  },
  "language_info": {
   "codemirror_mode": {
    "name": "ipython",
    "version": 3
   },
   "file_extension": ".py",
   "mimetype": "text/x-python",
   "name": "python",
   "nbconvert_exporter": "python",
   "pygments_lexer": "ipython3",
   "version": "3.9.16"
  }
 },
 "nbformat": 4,
 "nbformat_minor": 5
}
