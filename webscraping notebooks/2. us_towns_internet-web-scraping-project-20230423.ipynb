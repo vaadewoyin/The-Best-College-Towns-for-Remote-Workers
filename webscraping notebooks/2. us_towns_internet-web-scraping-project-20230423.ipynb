{
 "cells": [
  {
   "cell_type": "markdown",
   "id": "9db3582b-cb6a-421a-8d7a-efbdff70f9dc",
   "metadata": {},
   "source": [
    "### Necessary imports"
   ]
  },
  {
   "cell_type": "code",
   "execution_count": 1,
   "id": "52e76137-f3b3-4b44-9edc-44de5cf87bc7",
   "metadata": {
    "tags": []
   },
   "outputs": [],
   "source": [
    "#necessary imports\n",
    "import time\n",
    "from selenium import webdriver\n",
    "from selenium.webdriver.common.by import By\n",
    "from selenium.webdriver.chrome.service import Service\n",
    "from webdriver_manager.chrome import ChromeDriverManager\n",
    "from selenium.webdriver.support.wait import WebDriverWait\n",
    "from selenium.webdriver.support import expected_conditions as EC\n",
    "from selenium.common.exceptions import WebDriverException\n",
    "from selenium.webdriver.chrome.service import Service\n",
    "from selenium.webdriver.chrome.options import Options\n",
    "\n",
    "driver_path = '/usr/local/python/3.10.4/lib/python3.10/site-packages/chromedriver_autoinstaller/112/chromedriver'\n",
    "service = Service(driver_path)\n",
    "\n",
    "prefs = {\"profile.managed_default_content_settings.images\": 2,\n",
    "         \"profile.managed_default_content_settings.javascript\": 2,\n",
    "         \"profile.managed_default_content_settings.cookies\": 2,\n",
    "         \"profile.managed_default_content_settings.plugins\": 1,\n",
    "         \"profile.managed_default_content_settings.popups\": 2,\n",
    "         \"profile.managed_default_content_settings.geolocation\": 2,\n",
    "         \"profile.managed_default_content_settings.media_stream\": 2,\n",
    "         \"profile.managed_default_content_settings.notifications\": 2}\n",
    "\n",
    "options = webdriver.ChromeOptions()\n",
    "options.add_argument('--headless')\n",
    "options.add_argument('--no-sandbox')\n",
    "options.add_argument('--disable-dev-shm-usage')\n",
    "options.add_experimental_option('prefs', prefs)\n",
    "\n",
    "driver = webdriver.Chrome(service=service, options=options)\n"
   ]
  },
  {
   "cell_type": "code",
   "execution_count": 2,
   "id": "41fe89cb-18ad-417a-87cb-b979a44dd0e1",
   "metadata": {
    "tags": []
   },
   "outputs": [
    {
     "name": "stdout",
     "output_type": "stream",
     "text": [
      "scraping done\n"
     ]
    }
   ],
   "source": [
    "us_towns_internet=[]\n",
    "#get url\n",
    "url ='https://www.speedtest.net/performance/united-states'\n",
    "driver.get(url)\n",
    "\n",
    "#get states tags\n",
    "states=driver.find_element(By.CLASS_NAME,\"performance-place-listing\").find_elements(By.TAG_NAME,'a')\n",
    "state_links=[]\n",
    "#get all state link\n",
    "for state in states:\n",
    "    state_links.append(state.get_attribute('href'))\n",
    "    \n",
    "for state_link in state_links:   \n",
    "    #open new tab\n",
    "    driver.execute_script(\"window.open('');\")\n",
    "    # Switch to the new window and open new state url\n",
    "    driver.switch_to.window(driver.window_handles[1])\n",
    "    driver.get(state_link)\n",
    "\n",
    "    towns=driver.find_element(By.CLASS_NAME,\"performance-place-listing\").find_elements(By.TAG_NAME,'a')\n",
    "    town_links=[]\n",
    "    #get all town link\n",
    "    for town in towns:\n",
    "        town_links.append(town.get_attribute('href'))\n",
    "\n",
    "    for town_link in town_links:    \n",
    "        #open new tab\n",
    "        try:\n",
    "            driver.execute_script(\"window.open('');\")\n",
    "            # Switch to the new window and open new state url\n",
    "            driver.switch_to.window(driver.window_handles[2])\n",
    "            driver.get(town_link)\n",
    "\n",
    "            state_name=driver.title.split('United States')[0].split(',')[1].strip()\n",
    "            town_name=driver.title.split('United States')[0].split(',')[0]\n",
    "            median_download_speed=driver.find_element(By.ID,\"fixed\").text.split('\\n')[2]\n",
    "            median_upload_speed=driver.find_element(By.ID,\"fixed\").text.split('\\n')[5]\n",
    "            median_latency=driver.find_element(By.ID,\"fixed\").text.split('\\n')[8]\n",
    "        except:\n",
    "            try:\n",
    "                driver.find_element(By.XPATH,'/html/body/div[2]/div[2]/main/div[2]/div/div/div/div/a[2]').click()\n",
    "                wait = WebDriverWait(driver, 1)\n",
    "                median_download_speed= wait.until(EC.presence_of_element_located((By.ID,\"fixed\"))).text.split('\\n')[2]\n",
    "                median_upload_speed=driver.find_element(By.ID,\"fixed\").text.split('\\n')[5]\n",
    "                median_latency=driver.find_element(By.ID,\"fixed\").text.split('\\n')[8]\n",
    "                town_dict={}\n",
    "                town_dict={'state_name':state_name,'town_name':town_name,'median_download_speed':median_download_speed,\n",
    "                          'median_upload_speed':median_upload_speed,'median_latency':median_latency}\n",
    "                us_towns_internet.append(town_dict)\n",
    "                driver.close()\n",
    "                driver.switch_to.window(driver.window_handles[1])\n",
    "            except:\n",
    "                driver.close()\n",
    "                driver.switch_to.window(driver.window_handles[1])\n",
    "                continue    \n",
    "        else:\n",
    "            town_dict={}\n",
    "            town_dict={'state_name':state_name,'town_name':town_name,'median_download_speed':median_download_speed,\n",
    "                          'median_upload_speed':median_upload_speed,'median_latency':median_latency}\n",
    "            us_towns_internet.append(town_dict)\n",
    "\n",
    "            driver.close()\n",
    "            driver.switch_to.window(driver.window_handles[1])\n",
    "            \n",
    "print('scraping done')"
   ]
  },
  {
   "cell_type": "markdown",
   "id": "557e4ca1-a0ef-4977-b4cb-04c790beffdc",
   "metadata": {},
   "source": [
    "### Save data"
   ]
  },
  {
   "cell_type": "code",
   "execution_count": 4,
   "id": "54aa0d13-db6f-422e-9d5c-77ccafec4722",
   "metadata": {
    "tags": []
   },
   "outputs": [],
   "source": [
    "import pandas as pd\n",
    "df=pd.DataFrame(us_towns_internet)"
   ]
  },
  {
   "cell_type": "code",
   "execution_count": 6,
   "id": "67017537-03a1-4594-a35d-eca29b625a7b",
   "metadata": {
    "tags": []
   },
   "outputs": [],
   "source": [
    "#save to disk\n",
    "df.to_csv('./us_towns_internet_full.csv')"
   ]
  }
 ],
 "metadata": {
  "kernelspec": {
   "display_name": "Python 3 (ipykernel)",
   "language": "python",
   "name": "python3"
  },
  "language_info": {
   "codemirror_mode": {
    "name": "ipython",
    "version": 3
   },
   "file_extension": ".py",
   "mimetype": "text/x-python",
   "name": "python",
   "nbconvert_exporter": "python",
   "pygments_lexer": "ipython3",
   "version": "3.9.16"
  }
 },
 "nbformat": 4,
 "nbformat_minor": 5
}
